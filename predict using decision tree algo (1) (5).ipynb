{
 "cells": [
  {
   "cell_type": "code",
   "execution_count": 30,
   "metadata": {},
   "outputs": [
    {
     "name": "stdout",
     "output_type": "stream",
     "text": [
      "[array([1, 5.1, 3.5, 1.4, 0.2, 'Iris-setosa'], dtype=object), array([2, 4.9, 3.0, 1.4, 0.2, 'Iris-setosa'], dtype=object), array([3, 4.7, 3.2, 1.3, 0.2, 'Iris-setosa'], dtype=object), array([4, 4.6, 3.1, 1.5, 0.2, 'Iris-setosa'], dtype=object), array([5, 5.0, 3.6, 1.4, 0.2, 'Iris-setosa'], dtype=object), array([6, 5.4, 3.9, 1.7, 0.4, 'Iris-setosa'], dtype=object), array([7, 4.6, 3.4, 1.4, 0.3, 'Iris-setosa'], dtype=object), array([8, 5.0, 3.4, 1.5, 0.2, 'Iris-setosa'], dtype=object), array([9, 4.4, 2.9, 1.4, 0.2, 'Iris-setosa'], dtype=object), array([10, 4.9, 3.1, 1.5, 0.1, 'Iris-setosa'], dtype=object), array([11, 5.4, 3.7, 1.5, 0.2, 'Iris-setosa'], dtype=object), array([12, 4.8, 3.4, 1.6, 0.2, 'Iris-setosa'], dtype=object), array([13, 4.8, 3.0, 1.4, 0.1, 'Iris-setosa'], dtype=object), array([14, 4.3, 3.0, 1.1, 0.1, 'Iris-setosa'], dtype=object), array([15, 5.8, 4.0, 1.2, 0.2, 'Iris-setosa'], dtype=object), array([16, 5.7, 4.4, 1.5, 0.4, 'Iris-setosa'], dtype=object), array([17, 5.4, 3.9, 1.3, 0.4, 'Iris-setosa'], dtype=object), array([18, 5.1, 3.5, 1.4, 0.3, 'Iris-setosa'], dtype=object), array([19, 5.7, 3.8, 1.7, 0.3, 'Iris-setosa'], dtype=object), array([20, 5.1, 3.8, 1.5, 0.3, 'Iris-setosa'], dtype=object), array([21, 5.4, 3.4, 1.7, 0.2, 'Iris-setosa'], dtype=object), array([22, 5.1, 3.7, 1.5, 0.4, 'Iris-setosa'], dtype=object), array([23, 4.6, 3.6, 1.0, 0.2, 'Iris-setosa'], dtype=object), array([24, 5.1, 3.3, 1.7, 0.5, 'Iris-setosa'], dtype=object), array([25, 4.8, 3.4, 1.9, 0.2, 'Iris-setosa'], dtype=object), array([26, 5.0, 3.0, 1.6, 0.2, 'Iris-setosa'], dtype=object), array([27, 5.0, 3.4, 1.6, 0.4, 'Iris-setosa'], dtype=object), array([28, 5.2, 3.5, 1.5, 0.2, 'Iris-setosa'], dtype=object), array([29, 5.2, 3.4, 1.4, 0.2, 'Iris-setosa'], dtype=object), array([30, 4.7, 3.2, 1.6, 0.2, 'Iris-setosa'], dtype=object), array([31, 4.8, 3.1, 1.6, 0.2, 'Iris-setosa'], dtype=object), array([32, 5.4, 3.4, 1.5, 0.4, 'Iris-setosa'], dtype=object), array([33, 5.2, 4.1, 1.5, 0.1, 'Iris-setosa'], dtype=object), array([34, 5.5, 4.2, 1.4, 0.2, 'Iris-setosa'], dtype=object), array([35, 4.9, 3.1, 1.5, 0.1, 'Iris-setosa'], dtype=object), array([36, 5.0, 3.2, 1.2, 0.2, 'Iris-setosa'], dtype=object), array([37, 5.5, 3.5, 1.3, 0.2, 'Iris-setosa'], dtype=object), array([38, 4.9, 3.1, 1.5, 0.1, 'Iris-setosa'], dtype=object), array([39, 4.4, 3.0, 1.3, 0.2, 'Iris-setosa'], dtype=object), array([40, 5.1, 3.4, 1.5, 0.2, 'Iris-setosa'], dtype=object), array([41, 5.0, 3.5, 1.3, 0.3, 'Iris-setosa'], dtype=object), array([42, 4.5, 2.3, 1.3, 0.3, 'Iris-setosa'], dtype=object), array([43, 4.4, 3.2, 1.3, 0.2, 'Iris-setosa'], dtype=object), array([44, 5.0, 3.5, 1.6, 0.6, 'Iris-setosa'], dtype=object), array([45, 5.1, 3.8, 1.9, 0.4, 'Iris-setosa'], dtype=object), array([46, 4.8, 3.0, 1.4, 0.3, 'Iris-setosa'], dtype=object), array([47, 5.1, 3.8, 1.6, 0.2, 'Iris-setosa'], dtype=object), array([48, 4.6, 3.2, 1.4, 0.2, 'Iris-setosa'], dtype=object), array([49, 5.3, 3.7, 1.5, 0.2, 'Iris-setosa'], dtype=object), array([50, 5.0, 3.3, 1.4, 0.2, 'Iris-setosa'], dtype=object), array([51, 7.0, 3.2, 4.7, 1.4, 'Iris-versicolor'], dtype=object), array([52, 6.4, 3.2, 4.5, 1.5, 'Iris-versicolor'], dtype=object), array([53, 6.9, 3.1, 4.9, 1.5, 'Iris-versicolor'], dtype=object), array([54, 5.5, 2.3, 4.0, 1.3, 'Iris-versicolor'], dtype=object), array([55, 6.5, 2.8, 4.6, 1.5, 'Iris-versicolor'], dtype=object), array([56, 5.7, 2.8, 4.5, 1.3, 'Iris-versicolor'], dtype=object), array([57, 6.3, 3.3, 4.7, 1.6, 'Iris-versicolor'], dtype=object), array([58, 4.9, 2.4, 3.3, 1.0, 'Iris-versicolor'], dtype=object), array([59, 6.6, 2.9, 4.6, 1.3, 'Iris-versicolor'], dtype=object), array([60, 5.2, 2.7, 3.9, 1.4, 'Iris-versicolor'], dtype=object), array([61, 5.0, 2.0, 3.5, 1.0, 'Iris-versicolor'], dtype=object), array([62, 5.9, 3.0, 4.2, 1.5, 'Iris-versicolor'], dtype=object), array([63, 6.0, 2.2, 4.0, 1.0, 'Iris-versicolor'], dtype=object), array([64, 6.1, 2.9, 4.7, 1.4, 'Iris-versicolor'], dtype=object), array([65, 5.6, 2.9, 3.6, 1.3, 'Iris-versicolor'], dtype=object), array([66, 6.7, 3.1, 4.4, 1.4, 'Iris-versicolor'], dtype=object), array([67, 5.6, 3.0, 4.5, 1.5, 'Iris-versicolor'], dtype=object), array([68, 5.8, 2.7, 4.1, 1.0, 'Iris-versicolor'], dtype=object), array([69, 6.2, 2.2, 4.5, 1.5, 'Iris-versicolor'], dtype=object), array([70, 5.6, 2.5, 3.9, 1.1, 'Iris-versicolor'], dtype=object), array([71, 5.9, 3.2, 4.8, 1.8, 'Iris-versicolor'], dtype=object), array([72, 6.1, 2.8, 4.0, 1.3, 'Iris-versicolor'], dtype=object), array([73, 6.3, 2.5, 4.9, 1.5, 'Iris-versicolor'], dtype=object), array([74, 6.1, 2.8, 4.7, 1.2, 'Iris-versicolor'], dtype=object), array([75, 6.4, 2.9, 4.3, 1.3, 'Iris-versicolor'], dtype=object), array([76, 6.6, 3.0, 4.4, 1.4, 'Iris-versicolor'], dtype=object), array([77, 6.8, 2.8, 4.8, 1.4, 'Iris-versicolor'], dtype=object), array([78, 6.7, 3.0, 5.0, 1.7, 'Iris-versicolor'], dtype=object), array([79, 6.0, 2.9, 4.5, 1.5, 'Iris-versicolor'], dtype=object), array([80, 5.7, 2.6, 3.5, 1.0, 'Iris-versicolor'], dtype=object), array([81, 5.5, 2.4, 3.8, 1.1, 'Iris-versicolor'], dtype=object), array([82, 5.5, 2.4, 3.7, 1.0, 'Iris-versicolor'], dtype=object), array([83, 5.8, 2.7, 3.9, 1.2, 'Iris-versicolor'], dtype=object), array([84, 6.0, 2.7, 5.1, 1.6, 'Iris-versicolor'], dtype=object), array([85, 5.4, 3.0, 4.5, 1.5, 'Iris-versicolor'], dtype=object), array([86, 6.0, 3.4, 4.5, 1.6, 'Iris-versicolor'], dtype=object), array([87, 6.7, 3.1, 4.7, 1.5, 'Iris-versicolor'], dtype=object), array([88, 6.3, 2.3, 4.4, 1.3, 'Iris-versicolor'], dtype=object), array([89, 5.6, 3.0, 4.1, 1.3, 'Iris-versicolor'], dtype=object), array([90, 5.5, 2.5, 4.0, 1.3, 'Iris-versicolor'], dtype=object), array([91, 5.5, 2.6, 4.4, 1.2, 'Iris-versicolor'], dtype=object), array([92, 6.1, 3.0, 4.6, 1.4, 'Iris-versicolor'], dtype=object), array([93, 5.8, 2.6, 4.0, 1.2, 'Iris-versicolor'], dtype=object), array([94, 5.0, 2.3, 3.3, 1.0, 'Iris-versicolor'], dtype=object), array([95, 5.6, 2.7, 4.2, 1.3, 'Iris-versicolor'], dtype=object), array([96, 5.7, 3.0, 4.2, 1.2, 'Iris-versicolor'], dtype=object), array([97, 5.7, 2.9, 4.2, 1.3, 'Iris-versicolor'], dtype=object), array([98, 6.2, 2.9, 4.3, 1.3, 'Iris-versicolor'], dtype=object), array([99, 5.1, 2.5, 3.0, 1.1, 'Iris-versicolor'], dtype=object), array([100, 5.7, 2.8, 4.1, 1.3, 'Iris-versicolor'], dtype=object), array([101, 6.3, 3.3, 6.0, 2.5, 'Iris-virginica'], dtype=object), array([102, 5.8, 2.7, 5.1, 1.9, 'Iris-virginica'], dtype=object), array([103, 7.1, 3.0, 5.9, 2.1, 'Iris-virginica'], dtype=object), array([104, 6.3, 2.9, 5.6, 1.8, 'Iris-virginica'], dtype=object), array([105, 6.5, 3.0, 5.8, 2.2, 'Iris-virginica'], dtype=object), array([106, 7.6, 3.0, 6.6, 2.1, 'Iris-virginica'], dtype=object), array([107, 4.9, 2.5, 4.5, 1.7, 'Iris-virginica'], dtype=object), array([108, 7.3, 2.9, 6.3, 1.8, 'Iris-virginica'], dtype=object), array([109, 6.7, 2.5, 5.8, 1.8, 'Iris-virginica'], dtype=object), array([110, 7.2, 3.6, 6.1, 2.5, 'Iris-virginica'], dtype=object), array([111, 6.5, 3.2, 5.1, 2.0, 'Iris-virginica'], dtype=object), array([112, 6.4, 2.7, 5.3, 1.9, 'Iris-virginica'], dtype=object), array([113, 6.8, 3.0, 5.5, 2.1, 'Iris-virginica'], dtype=object), array([114, 5.7, 2.5, 5.0, 2.0, 'Iris-virginica'], dtype=object), array([115, 5.8, 2.8, 5.1, 2.4, 'Iris-virginica'], dtype=object), array([116, 6.4, 3.2, 5.3, 2.3, 'Iris-virginica'], dtype=object), array([117, 6.5, 3.0, 5.5, 1.8, 'Iris-virginica'], dtype=object), array([118, 7.7, 3.8, 6.7, 2.2, 'Iris-virginica'], dtype=object), array([119, 7.7, 2.6, 6.9, 2.3, 'Iris-virginica'], dtype=object), array([120, 6.0, 2.2, 5.0, 1.5, 'Iris-virginica'], dtype=object), array([121, 6.9, 3.2, 5.7, 2.3, 'Iris-virginica'], dtype=object), array([122, 5.6, 2.8, 4.9, 2.0, 'Iris-virginica'], dtype=object), array([123, 7.7, 2.8, 6.7, 2.0, 'Iris-virginica'], dtype=object), array([124, 6.3, 2.7, 4.9, 1.8, 'Iris-virginica'], dtype=object), array([125, 6.7, 3.3, 5.7, 2.1, 'Iris-virginica'], dtype=object), array([126, 7.2, 3.2, 6.0, 1.8, 'Iris-virginica'], dtype=object), array([127, 6.2, 2.8, 4.8, 1.8, 'Iris-virginica'], dtype=object), array([128, 6.1, 3.0, 4.9, 1.8, 'Iris-virginica'], dtype=object), array([129, 6.4, 2.8, 5.6, 2.1, 'Iris-virginica'], dtype=object), array([130, 7.2, 3.0, 5.8, 1.6, 'Iris-virginica'], dtype=object), array([131, 7.4, 2.8, 6.1, 1.9, 'Iris-virginica'], dtype=object), array([132, 7.9, 3.8, 6.4, 2.0, 'Iris-virginica'], dtype=object), array([133, 6.4, 2.8, 5.6, 2.2, 'Iris-virginica'], dtype=object), array([134, 6.3, 2.8, 5.1, 1.5, 'Iris-virginica'], dtype=object), array([135, 6.1, 2.6, 5.6, 1.4, 'Iris-virginica'], dtype=object), array([136, 7.7, 3.0, 6.1, 2.3, 'Iris-virginica'], dtype=object), array([137, 6.3, 3.4, 5.6, 2.4, 'Iris-virginica'], dtype=object), array([138, 6.4, 3.1, 5.5, 1.8, 'Iris-virginica'], dtype=object), array([139, 6.0, 3.0, 4.8, 1.8, 'Iris-virginica'], dtype=object), array([140, 6.9, 3.1, 5.4, 2.1, 'Iris-virginica'], dtype=object), array([141, 6.7, 3.1, 5.6, 2.4, 'Iris-virginica'], dtype=object), array([142, 6.9, 3.1, 5.1, 2.3, 'Iris-virginica'], dtype=object), array([143, 5.8, 2.7, 5.1, 1.9, 'Iris-virginica'], dtype=object), array([144, 6.8, 3.2, 5.9, 2.3, 'Iris-virginica'], dtype=object), array([145, 6.7, 3.3, 5.7, 2.5, 'Iris-virginica'], dtype=object), array([146, 6.7, 3.0, 5.2, 2.3, 'Iris-virginica'], dtype=object), array([147, 6.3, 2.5, 5.0, 1.9, 'Iris-virginica'], dtype=object), array([148, 6.5, 3.0, 5.2, 2.0, 'Iris-virginica'], dtype=object), array([149, 6.2, 3.4, 5.4, 2.3, 'Iris-virginica'], dtype=object), array([150, 5.9, 3.0, 5.1, 1.8, 'Iris-virginica'], dtype=object)]\n",
      "['Id', 'SepalLengthCm', 'SepalWidthCm', 'PetalLengthCm', 'PetalWidthCm', 'Species']\n"
     ]
    },
    {
     "data": {
      "text/plain": [
       "{'Iris-setosa': 50, 'Iris-versicolor': 50, 'Iris-virginica': 50}"
      ]
     },
     "execution_count": 30,
     "metadata": {},
     "output_type": "execute_result"
    }
   ],
   "source": [
    "import pandas as pd\n",
    "import seaborn as sns\n",
    "\n",
    "data_iris = pd.read_csv(\"Iris.csv\")\n",
    "header = list(data_iris)\n",
    "main_data = data_iris.values\n",
    "main_data=list(main_data)\n",
    "print(main_data)\n",
    "print(header)\n",
    "\n",
    "def unique_vals(rows, col):\n",
    "    \"\"\"Find the unique values for a column in a dataset.\"\"\"\n",
    "    return set([row[col] for row in rows])\n",
    "\n",
    "unique_vals(main_data, 1)\n",
    "\n",
    "def class_counts(rows):\n",
    "    \"\"\"Counts the number of each type of example in a dataset.\"\"\"\n",
    "    counts = {}  # a dictionary of label -> count.\n",
    "    for row in rows:\n",
    "        # in our dataset format, the label is always the last column\n",
    "        label = row[-1]\n",
    "        if label not in counts:\n",
    "            counts[label] = 0\n",
    "        counts[label] += 1\n",
    "    return counts\n",
    "\n",
    "class_counts(main_data)"
   ]
  },
  {
   "cell_type": "code",
   "execution_count": null,
   "metadata": {},
   "outputs": [],
   "source": []
  },
  {
   "cell_type": "code",
   "execution_count": 31,
   "metadata": {},
   "outputs": [
    {
     "data": {
      "text/plain": [
       "Is SepalLengthCm >= 3?"
      ]
     },
     "execution_count": 31,
     "metadata": {},
     "output_type": "execute_result"
    }
   ],
   "source": [
    "def is_numeric(value):\n",
    "    \"\"\"Test if a value is numeric.\"\"\"\n",
    "    return isinstance(value, int) or isinstance(value, float)\n",
    "\n",
    "class Question:\n",
    "    \"\"\"A Question is used to partition a dataset.\n",
    "\n",
    "    This class just records a 'column number' (e.g., 0 for Color) and a\n",
    "    'column value' (e.g., Green). The 'match' method is used to compare\n",
    "    the feature value in an example to the feature value stored in the\n",
    "    question. See the demo below.\n",
    "    \"\"\"\n",
    "\n",
    "    def __init__(self, column, value):\n",
    "        self.column = column\n",
    "        self.value = value\n",
    "\n",
    "    def match(self, example):\n",
    "        # Compare the feature value in an example to the\n",
    "        # feature value in this question.\n",
    "        val = example[self.column]\n",
    "        if is_numeric(val):\n",
    "            return val >= self.value\n",
    "        else:\n",
    "            return val == self.value\n",
    "\n",
    "    def __repr__(self):\n",
    "        # This is just a helper method to print\n",
    "        # the question in a readable format.\n",
    "        condition = \"==\"\n",
    "        if is_numeric(self.value):\n",
    "            condition = \">=\"\n",
    "        return \"Is %s %s %s?\" % (header[self.column], condition, str(self.value))\n",
    "\n",
    "Question(1, 3)"
   ]
  },
  {
   "cell_type": "code",
   "execution_count": 32,
   "metadata": {},
   "outputs": [
    {
     "data": {
      "text/plain": [
       "Is SepalLengthCm >= 6.5?"
      ]
     },
     "execution_count": 32,
     "metadata": {},
     "output_type": "execute_result"
    }
   ],
   "source": [
    "q = Question(1, 6.5)\n",
    "q"
   ]
  },
  {
   "cell_type": "code",
   "execution_count": 33,
   "metadata": {},
   "outputs": [
    {
     "data": {
      "text/plain": [
       "False"
      ]
     },
     "execution_count": 33,
     "metadata": {},
     "output_type": "execute_result"
    }
   ],
   "source": [
    "example = main_data[0]\n",
    "q.match(example)"
   ]
  },
  {
   "cell_type": "code",
   "execution_count": 34,
   "metadata": {
    "scrolled": true
   },
   "outputs": [
    {
     "name": "stdout",
     "output_type": "stream",
     "text": [
      "Is SepalLengthCm >= 6.7?\n",
      "\n",
      "\n",
      "[array([51, 7.0, 3.2, 4.7, 1.4, 'Iris-versicolor'], dtype=object), array([53, 6.9, 3.1, 4.9, 1.5, 'Iris-versicolor'], dtype=object), array([66, 6.7, 3.1, 4.4, 1.4, 'Iris-versicolor'], dtype=object), array([77, 6.8, 2.8, 4.8, 1.4, 'Iris-versicolor'], dtype=object), array([78, 6.7, 3.0, 5.0, 1.7, 'Iris-versicolor'], dtype=object), array([87, 6.7, 3.1, 4.7, 1.5, 'Iris-versicolor'], dtype=object), array([103, 7.1, 3.0, 5.9, 2.1, 'Iris-virginica'], dtype=object), array([106, 7.6, 3.0, 6.6, 2.1, 'Iris-virginica'], dtype=object), array([108, 7.3, 2.9, 6.3, 1.8, 'Iris-virginica'], dtype=object), array([109, 6.7, 2.5, 5.8, 1.8, 'Iris-virginica'], dtype=object), array([110, 7.2, 3.6, 6.1, 2.5, 'Iris-virginica'], dtype=object), array([113, 6.8, 3.0, 5.5, 2.1, 'Iris-virginica'], dtype=object), array([118, 7.7, 3.8, 6.7, 2.2, 'Iris-virginica'], dtype=object), array([119, 7.7, 2.6, 6.9, 2.3, 'Iris-virginica'], dtype=object), array([121, 6.9, 3.2, 5.7, 2.3, 'Iris-virginica'], dtype=object), array([123, 7.7, 2.8, 6.7, 2.0, 'Iris-virginica'], dtype=object), array([125, 6.7, 3.3, 5.7, 2.1, 'Iris-virginica'], dtype=object), array([126, 7.2, 3.2, 6.0, 1.8, 'Iris-virginica'], dtype=object), array([130, 7.2, 3.0, 5.8, 1.6, 'Iris-virginica'], dtype=object), array([131, 7.4, 2.8, 6.1, 1.9, 'Iris-virginica'], dtype=object), array([132, 7.9, 3.8, 6.4, 2.0, 'Iris-virginica'], dtype=object), array([136, 7.7, 3.0, 6.1, 2.3, 'Iris-virginica'], dtype=object), array([140, 6.9, 3.1, 5.4, 2.1, 'Iris-virginica'], dtype=object), array([141, 6.7, 3.1, 5.6, 2.4, 'Iris-virginica'], dtype=object), array([142, 6.9, 3.1, 5.1, 2.3, 'Iris-virginica'], dtype=object), array([144, 6.8, 3.2, 5.9, 2.3, 'Iris-virginica'], dtype=object), array([145, 6.7, 3.3, 5.7, 2.5, 'Iris-virginica'], dtype=object), array([146, 6.7, 3.0, 5.2, 2.3, 'Iris-virginica'], dtype=object)]\n"
     ]
    }
   ],
   "source": [
    "def partition(rows, question):\n",
    "    \"\"\"Partitions a dataset.\n",
    "\n",
    "    For each row in the dataset, check if it matches the question. If\n",
    "    so, add it to 'true rows', otherwise, add it to 'false rows'.\n",
    "    \"\"\"\n",
    "    true_rows, false_rows = [], []\n",
    "    for row in rows:\n",
    "        if question.match(row):\n",
    "            true_rows.append(row)\n",
    "        else:\n",
    "            false_rows.append(row)\n",
    "    return true_rows, false_rows\n",
    "\n",
    "p=Question(1, 6.7)\n",
    "true_rows, false_rows = partition(main_data, p)\n",
    "print(p, end='\\n\\n\\n')\n",
    "print(true_rows)"
   ]
  },
  {
   "cell_type": "code",
   "execution_count": 35,
   "metadata": {},
   "outputs": [
    {
     "data": {
      "text/plain": [
       "0.5"
      ]
     },
     "execution_count": 35,
     "metadata": {},
     "output_type": "execute_result"
    }
   ],
   "source": [
    "def gini(rows):\n",
    "    \"\"\"Calculate the Gini Impurity for a list of rows.\n",
    "\n",
    "    There are a few different ways to do this, I thought this one was\n",
    "    the most concise. See:\n",
    "    https://en.wikipedia.org/wiki/Decision_tree_learning#Gini_impurity\n",
    "    \"\"\"\n",
    "    counts = class_counts(rows)\n",
    "    impurity = 1\n",
    "    for lbl in counts:\n",
    "        prob_of_lbl = counts[lbl] / float(len(rows))\n",
    "        impurity -= prob_of_lbl**2\n",
    "    return impurity\n",
    "\n",
    "no_mix = [['6.7'],\n",
    "              ['6.8']]\n",
    "\n",
    "gini(no_mix)"
   ]
  },
  {
   "cell_type": "code",
   "execution_count": 36,
   "metadata": {},
   "outputs": [
    {
     "data": {
      "text/plain": [
       "0.6666666666666665"
      ]
     },
     "execution_count": 36,
     "metadata": {},
     "output_type": "execute_result"
    }
   ],
   "source": [
    "def info_gain(left, right, current_uncertainty):\n",
    "    \"\"\"Information Gain.\n",
    "\n",
    "    The uncertainty of the starting node, minus the weighted impurity of\n",
    "    two child nodes.\n",
    "    \"\"\"\n",
    "    p = float(len(left)) / (len(left) + len(right))\n",
    "    return current_uncertainty - p * gini(left) - (1 - p) * gini(right)\n",
    "\n",
    "current_uncertainty = gini(main_data)\n",
    "current_uncertainty"
   ]
  },
  {
   "cell_type": "code",
   "execution_count": 37,
   "metadata": {},
   "outputs": [
    {
     "data": {
      "text/plain": [
       "Is PetalWidthCm >= 1.0?"
      ]
     },
     "execution_count": 37,
     "metadata": {},
     "output_type": "execute_result"
    }
   ],
   "source": [
    "def find_best_split(rows):\n",
    "    \"\"\"Find the best question to ask by iterating over every feature / value\n",
    "    and calculating the information gain.\"\"\"\n",
    "    best_gain = 0  # keep track of the best information gain\n",
    "    best_question = None  # keep train of the feature / value that produced it\n",
    "    current_uncertainty = gini(rows)\n",
    "    n_features = len(rows[0]) - 1  # number of columns\n",
    "\n",
    "    for col in range(n_features):  # for each feature\n",
    "\n",
    "        values = set([row[col] for row in rows])  # unique values in the column\n",
    "\n",
    "        for val in values:  # for each value\n",
    "\n",
    "            question = Question(col, val)\n",
    "\n",
    "            # try splitting the dataset\n",
    "            true_rows, false_rows = partition(rows, question)\n",
    "\n",
    "            # Skip this split if it doesn't divide the\n",
    "            # dataset.\n",
    "            if len(true_rows) == 0 or len(false_rows) == 0:\n",
    "                continue\n",
    "\n",
    "            # Calculate the information gain from this split\n",
    "            gain = info_gain(true_rows, false_rows, current_uncertainty)\n",
    "\n",
    "            # You actually can use '>' instead of '>=' here\n",
    "            # but I wanted the tree to look a certain way for our\n",
    "            # toy dataset.\n",
    "            if gain >= best_gain:\n",
    "                best_gain, best_question = gain, question\n",
    "\n",
    "    return best_gain, best_question\n",
    "\n",
    "best_gain, best_question = find_best_split(main_data)\n",
    "best_question"
   ]
  },
  {
   "cell_type": "code",
   "execution_count": 38,
   "metadata": {},
   "outputs": [],
   "source": [
    "class Leaf:\n",
    "    \"\"\"A Leaf node classifies data.\n",
    "\n",
    "    This holds a dictionary of class (e.g., \"Apple\") -> number of times\n",
    "    it appears in the rows from the training data that reach this leaf.\n",
    "    \"\"\"\n",
    "\n",
    "    def __init__(self, rows):\n",
    "        self.predictions = class_counts(rows)\n",
    "        \n",
    "class Decision_Node:\n",
    "    \"\"\"A Decision Node asks a question.\n",
    "\n",
    "    This holds a reference to the question, and to the two child nodes.\n",
    "    \"\"\"\n",
    "\n",
    "    def __init__(self, question, true_branch, false_branch):\n",
    "        self.question = question\n",
    "        self.true_branch = true_branch\n",
    "        self.false_branch = false_branch\n",
    "        \n",
    "        \n",
    "def build_tree(rows):\n",
    "    \"\"\"Builds the tree.\n",
    "\n",
    "    Rules of recursion: 1) Believe that it works. 2) Start by checking\n",
    "    for the base case (no further information gain). 3) Prepare for\n",
    "    giant stack traces.\n",
    "    \"\"\"\n",
    "\n",
    "    # Try partitioing the dataset on each of the unique attribute,\n",
    "    # calculate the information gain,\n",
    "    # and return the question that produces the highest gain.\n",
    "    gain, question = find_best_split(rows)\n",
    "\n",
    "    # Base case: no further info gain\n",
    "    # Since we can ask no further questions,\n",
    "    # we'll return a leaf.\n",
    "    if gain == 0:\n",
    "        return Leaf(rows)\n",
    "\n",
    "    # If we reach here, we have found a useful feature / value\n",
    "    # to partition on.\n",
    "    true_rows, false_rows = partition(rows, question)\n",
    "\n",
    "    # Recursively build the true branch.\n",
    "    true_branch = build_tree(true_rows)\n",
    "\n",
    "    # Recursively build the false branch.\n",
    "    false_branch = build_tree(false_rows)\n",
    "\n",
    "    # Return a Question node.\n",
    "    # This records the best feature / value to ask at this point,\n",
    "    # as well as the branches to follow\n",
    "    # dependingo on the answer.\n",
    "    return Decision_Node(question, true_branch, false_branch)\n",
    "\n",
    "my_tree = build_tree(main_data)"
   ]
  },
  {
   "cell_type": "code",
   "execution_count": 40,
   "metadata": {
    "scrolled": true
   },
   "outputs": [
    {
     "name": "stdout",
     "output_type": "stream",
     "text": [
      "Is PetalWidthCm >= 1.0?\n",
      "--> True:\n",
      "  Is Id >= 101?\n",
      "  --> True:\n",
      "    Predict {'Iris-virginica': 50}\n",
      "  --> False:\n",
      "    Predict {'Iris-versicolor': 50}\n",
      "--> False:\n",
      "  Predict {'Iris-setosa': 50}\n"
     ]
    }
   ],
   "source": [
    "def print_tree(node, spacing=\"\"):\n",
    "    \"\"\"World's most elegant tree printing function.\"\"\"\n",
    "\n",
    "    # Base case: we've reached a leaf\n",
    "    if isinstance(node, Leaf):\n",
    "        print (spacing + \"Predict\", node.predictions)\n",
    "        return\n",
    "\n",
    "    # Print the question at this node\n",
    "    print (spacing + str(node.question))\n",
    "\n",
    "    # Call this function recursively on the true branch\n",
    "    print (spacing + '--> True:')\n",
    "    print_tree(node.true_branch, spacing + \"  \")\n",
    "\n",
    "    # Call this function recursively on the false branch\n",
    "    print (spacing + '--> False:')\n",
    "    print_tree(node.false_branch, spacing + \"  \")\n",
    "\n",
    "print_tree(my_tree)"
   ]
  },
  {
   "cell_type": "code",
   "execution_count": 16,
   "metadata": {},
   "outputs": [
    {
     "data": {
      "text/plain": [
       "{'Iris-setosa': 50}"
      ]
     },
     "execution_count": 16,
     "metadata": {},
     "output_type": "execute_result"
    }
   ],
   "source": [
    "def classify(row, node):\n",
    "    \"\"\"See the 'rules of recursion' above.\"\"\"\n",
    "\n",
    "    # Base case: we've reached a leaf\n",
    "    if isinstance(node, Leaf):\n",
    "        return node.predictions\n",
    "\n",
    "    # Decide whether to follow the true-branch or the false-branch.\n",
    "    # Compare the feature / value stored in the node,\n",
    "    # to the example we're considering.\n",
    "    if node.question.match(row):\n",
    "        return classify(row, node.true_branch)\n",
    "    else:\n",
    "        return classify(row, node.false_branch)\n",
    "    \n",
    "classify(main_data[0], my_tree)"
   ]
  },
  {
   "cell_type": "code",
   "execution_count": 17,
   "metadata": {},
   "outputs": [
    {
     "data": {
      "text/plain": [
       "{'Iris-setosa': '100%'}"
      ]
     },
     "execution_count": 17,
     "metadata": {},
     "output_type": "execute_result"
    }
   ],
   "source": [
    "def print_leaf(counts):\n",
    "    \"\"\"A nicer way to print the predictions at a leaf.\"\"\"\n",
    "    total = sum(counts.values()) * 1.0\n",
    "    probs = {}\n",
    "    for lbl in counts.keys():\n",
    "        probs[lbl] = str(int(counts[lbl] / total * 100)) + \"%\"\n",
    "    return probs\n",
    "\n",
    "print_leaf(classify(main_data[0], my_tree))"
   ]
  },
  {
   "cell_type": "code",
   "execution_count": 18,
   "metadata": {},
   "outputs": [
    {
     "data": {
      "text/plain": [
       "{'Iris-versicolor': '100%'}"
      ]
     },
     "execution_count": 18,
     "metadata": {},
     "output_type": "execute_result"
    }
   ],
   "source": [
    "print_leaf(classify(main_data[67], my_tree))"
   ]
  },
  {
   "cell_type": "code",
   "execution_count": 19,
   "metadata": {},
   "outputs": [
    {
     "name": "stdout",
     "output_type": "stream",
     "text": [
      "Actual: Iris-setosa. Predicted: {'Iris-setosa': '100%'}\n",
      "Actual: Iris-setosa. Predicted: {'Iris-setosa': '100%'}\n",
      "Actual: Iris-setosa. Predicted: {'Iris-setosa': '100%'}\n",
      "Actual: Iris-setosa. Predicted: {'Iris-setosa': '100%'}\n",
      "Actual: Iris-setosa. Predicted: {'Iris-setosa': '100%'}\n",
      "Actual: Iris-setosa. Predicted: {'Iris-setosa': '100%'}\n",
      "Actual: Iris-setosa. Predicted: {'Iris-setosa': '100%'}\n",
      "Actual: Iris-setosa. Predicted: {'Iris-setosa': '100%'}\n",
      "Actual: Iris-setosa. Predicted: {'Iris-setosa': '100%'}\n",
      "Actual: Iris-setosa. Predicted: {'Iris-setosa': '100%'}\n",
      "Actual: Iris-setosa. Predicted: {'Iris-setosa': '100%'}\n",
      "Actual: Iris-setosa. Predicted: {'Iris-setosa': '100%'}\n",
      "Actual: Iris-setosa. Predicted: {'Iris-setosa': '100%'}\n",
      "Actual: Iris-setosa. Predicted: {'Iris-setosa': '100%'}\n",
      "Actual: Iris-setosa. Predicted: {'Iris-setosa': '100%'}\n",
      "Actual: Iris-setosa. Predicted: {'Iris-setosa': '100%'}\n",
      "Actual: Iris-setosa. Predicted: {'Iris-setosa': '100%'}\n",
      "Actual: Iris-setosa. Predicted: {'Iris-setosa': '100%'}\n",
      "Actual: Iris-setosa. Predicted: {'Iris-setosa': '100%'}\n",
      "Actual: Iris-setosa. Predicted: {'Iris-setosa': '100%'}\n",
      "Actual: Iris-setosa. Predicted: {'Iris-setosa': '100%'}\n",
      "Actual: Iris-setosa. Predicted: {'Iris-setosa': '100%'}\n",
      "Actual: Iris-setosa. Predicted: {'Iris-setosa': '100%'}\n",
      "Actual: Iris-setosa. Predicted: {'Iris-setosa': '100%'}\n",
      "Actual: Iris-setosa. Predicted: {'Iris-setosa': '100%'}\n",
      "Actual: Iris-setosa. Predicted: {'Iris-setosa': '100%'}\n",
      "Actual: Iris-setosa. Predicted: {'Iris-setosa': '100%'}\n",
      "Actual: Iris-setosa. Predicted: {'Iris-setosa': '100%'}\n",
      "Actual: Iris-setosa. Predicted: {'Iris-setosa': '100%'}\n",
      "Actual: Iris-setosa. Predicted: {'Iris-setosa': '100%'}\n",
      "Actual: Iris-setosa. Predicted: {'Iris-setosa': '100%'}\n",
      "Actual: Iris-setosa. Predicted: {'Iris-setosa': '100%'}\n",
      "Actual: Iris-setosa. Predicted: {'Iris-setosa': '100%'}\n",
      "Actual: Iris-setosa. Predicted: {'Iris-setosa': '100%'}\n",
      "Actual: Iris-setosa. Predicted: {'Iris-setosa': '100%'}\n",
      "Actual: Iris-setosa. Predicted: {'Iris-setosa': '100%'}\n",
      "Actual: Iris-setosa. Predicted: {'Iris-setosa': '100%'}\n",
      "Actual: Iris-setosa. Predicted: {'Iris-setosa': '100%'}\n",
      "Actual: Iris-setosa. Predicted: {'Iris-setosa': '100%'}\n",
      "Actual: Iris-setosa. Predicted: {'Iris-setosa': '100%'}\n",
      "Actual: Iris-setosa. Predicted: {'Iris-setosa': '100%'}\n",
      "Actual: Iris-setosa. Predicted: {'Iris-setosa': '100%'}\n",
      "Actual: Iris-setosa. Predicted: {'Iris-setosa': '100%'}\n",
      "Actual: Iris-setosa. Predicted: {'Iris-setosa': '100%'}\n",
      "Actual: Iris-setosa. Predicted: {'Iris-setosa': '100%'}\n",
      "Actual: Iris-setosa. Predicted: {'Iris-setosa': '100%'}\n",
      "Actual: Iris-setosa. Predicted: {'Iris-setosa': '100%'}\n",
      "Actual: Iris-setosa. Predicted: {'Iris-setosa': '100%'}\n",
      "Actual: Iris-setosa. Predicted: {'Iris-setosa': '100%'}\n",
      "Actual: Iris-setosa. Predicted: {'Iris-setosa': '100%'}\n",
      "Actual: Iris-versicolor. Predicted: {'Iris-versicolor': '100%'}\n",
      "Actual: Iris-versicolor. Predicted: {'Iris-versicolor': '100%'}\n",
      "Actual: Iris-versicolor. Predicted: {'Iris-versicolor': '100%'}\n",
      "Actual: Iris-versicolor. Predicted: {'Iris-versicolor': '100%'}\n",
      "Actual: Iris-versicolor. Predicted: {'Iris-versicolor': '100%'}\n",
      "Actual: Iris-versicolor. Predicted: {'Iris-versicolor': '100%'}\n",
      "Actual: Iris-versicolor. Predicted: {'Iris-versicolor': '100%'}\n",
      "Actual: Iris-versicolor. Predicted: {'Iris-versicolor': '100%'}\n",
      "Actual: Iris-versicolor. Predicted: {'Iris-versicolor': '100%'}\n",
      "Actual: Iris-versicolor. Predicted: {'Iris-versicolor': '100%'}\n",
      "Actual: Iris-versicolor. Predicted: {'Iris-versicolor': '100%'}\n",
      "Actual: Iris-versicolor. Predicted: {'Iris-versicolor': '100%'}\n",
      "Actual: Iris-versicolor. Predicted: {'Iris-versicolor': '100%'}\n",
      "Actual: Iris-versicolor. Predicted: {'Iris-versicolor': '100%'}\n",
      "Actual: Iris-versicolor. Predicted: {'Iris-versicolor': '100%'}\n",
      "Actual: Iris-versicolor. Predicted: {'Iris-versicolor': '100%'}\n",
      "Actual: Iris-versicolor. Predicted: {'Iris-versicolor': '100%'}\n",
      "Actual: Iris-versicolor. Predicted: {'Iris-versicolor': '100%'}\n",
      "Actual: Iris-versicolor. Predicted: {'Iris-versicolor': '100%'}\n",
      "Actual: Iris-versicolor. Predicted: {'Iris-versicolor': '100%'}\n",
      "Actual: Iris-versicolor. Predicted: {'Iris-versicolor': '100%'}\n",
      "Actual: Iris-versicolor. Predicted: {'Iris-versicolor': '100%'}\n",
      "Actual: Iris-versicolor. Predicted: {'Iris-versicolor': '100%'}\n",
      "Actual: Iris-versicolor. Predicted: {'Iris-versicolor': '100%'}\n",
      "Actual: Iris-versicolor. Predicted: {'Iris-versicolor': '100%'}\n",
      "Actual: Iris-versicolor. Predicted: {'Iris-versicolor': '100%'}\n",
      "Actual: Iris-versicolor. Predicted: {'Iris-versicolor': '100%'}\n",
      "Actual: Iris-versicolor. Predicted: {'Iris-versicolor': '100%'}\n",
      "Actual: Iris-versicolor. Predicted: {'Iris-versicolor': '100%'}\n",
      "Actual: Iris-versicolor. Predicted: {'Iris-versicolor': '100%'}\n",
      "Actual: Iris-versicolor. Predicted: {'Iris-versicolor': '100%'}\n",
      "Actual: Iris-versicolor. Predicted: {'Iris-versicolor': '100%'}\n",
      "Actual: Iris-versicolor. Predicted: {'Iris-versicolor': '100%'}\n",
      "Actual: Iris-versicolor. Predicted: {'Iris-versicolor': '100%'}\n",
      "Actual: Iris-versicolor. Predicted: {'Iris-versicolor': '100%'}\n",
      "Actual: Iris-versicolor. Predicted: {'Iris-versicolor': '100%'}\n",
      "Actual: Iris-versicolor. Predicted: {'Iris-versicolor': '100%'}\n",
      "Actual: Iris-versicolor. Predicted: {'Iris-versicolor': '100%'}\n",
      "Actual: Iris-versicolor. Predicted: {'Iris-versicolor': '100%'}\n",
      "Actual: Iris-versicolor. Predicted: {'Iris-versicolor': '100%'}\n",
      "Actual: Iris-versicolor. Predicted: {'Iris-versicolor': '100%'}\n",
      "Actual: Iris-versicolor. Predicted: {'Iris-versicolor': '100%'}\n",
      "Actual: Iris-versicolor. Predicted: {'Iris-versicolor': '100%'}\n",
      "Actual: Iris-versicolor. Predicted: {'Iris-versicolor': '100%'}\n",
      "Actual: Iris-versicolor. Predicted: {'Iris-versicolor': '100%'}\n",
      "Actual: Iris-versicolor. Predicted: {'Iris-versicolor': '100%'}\n",
      "Actual: Iris-versicolor. Predicted: {'Iris-versicolor': '100%'}\n",
      "Actual: Iris-versicolor. Predicted: {'Iris-versicolor': '100%'}\n",
      "Actual: Iris-versicolor. Predicted: {'Iris-versicolor': '100%'}\n",
      "Actual: Iris-versicolor. Predicted: {'Iris-versicolor': '100%'}\n",
      "Actual: Iris-virginica. Predicted: {'Iris-virginica': '100%'}\n",
      "Actual: Iris-virginica. Predicted: {'Iris-virginica': '100%'}\n",
      "Actual: Iris-virginica. Predicted: {'Iris-virginica': '100%'}\n",
      "Actual: Iris-virginica. Predicted: {'Iris-virginica': '100%'}\n",
      "Actual: Iris-virginica. Predicted: {'Iris-virginica': '100%'}\n",
      "Actual: Iris-virginica. Predicted: {'Iris-virginica': '100%'}\n",
      "Actual: Iris-virginica. Predicted: {'Iris-virginica': '100%'}\n",
      "Actual: Iris-virginica. Predicted: {'Iris-virginica': '100%'}\n",
      "Actual: Iris-virginica. Predicted: {'Iris-virginica': '100%'}\n",
      "Actual: Iris-virginica. Predicted: {'Iris-virginica': '100%'}\n",
      "Actual: Iris-virginica. Predicted: {'Iris-virginica': '100%'}\n",
      "Actual: Iris-virginica. Predicted: {'Iris-virginica': '100%'}\n",
      "Actual: Iris-virginica. Predicted: {'Iris-virginica': '100%'}\n",
      "Actual: Iris-virginica. Predicted: {'Iris-virginica': '100%'}\n",
      "Actual: Iris-virginica. Predicted: {'Iris-virginica': '100%'}\n",
      "Actual: Iris-virginica. Predicted: {'Iris-virginica': '100%'}\n",
      "Actual: Iris-virginica. Predicted: {'Iris-virginica': '100%'}\n",
      "Actual: Iris-virginica. Predicted: {'Iris-virginica': '100%'}\n",
      "Actual: Iris-virginica. Predicted: {'Iris-virginica': '100%'}\n",
      "Actual: Iris-virginica. Predicted: {'Iris-virginica': '100%'}\n",
      "Actual: Iris-virginica. Predicted: {'Iris-virginica': '100%'}\n",
      "Actual: Iris-virginica. Predicted: {'Iris-virginica': '100%'}\n",
      "Actual: Iris-virginica. Predicted: {'Iris-virginica': '100%'}\n",
      "Actual: Iris-virginica. Predicted: {'Iris-virginica': '100%'}\n",
      "Actual: Iris-virginica. Predicted: {'Iris-virginica': '100%'}\n",
      "Actual: Iris-virginica. Predicted: {'Iris-virginica': '100%'}\n",
      "Actual: Iris-virginica. Predicted: {'Iris-virginica': '100%'}\n",
      "Actual: Iris-virginica. Predicted: {'Iris-virginica': '100%'}\n",
      "Actual: Iris-virginica. Predicted: {'Iris-virginica': '100%'}\n",
      "Actual: Iris-virginica. Predicted: {'Iris-virginica': '100%'}\n",
      "Actual: Iris-virginica. Predicted: {'Iris-virginica': '100%'}\n",
      "Actual: Iris-virginica. Predicted: {'Iris-virginica': '100%'}\n",
      "Actual: Iris-virginica. Predicted: {'Iris-virginica': '100%'}\n",
      "Actual: Iris-virginica. Predicted: {'Iris-virginica': '100%'}\n",
      "Actual: Iris-virginica. Predicted: {'Iris-virginica': '100%'}\n",
      "Actual: Iris-virginica. Predicted: {'Iris-virginica': '100%'}\n",
      "Actual: Iris-virginica. Predicted: {'Iris-virginica': '100%'}\n",
      "Actual: Iris-virginica. Predicted: {'Iris-virginica': '100%'}\n",
      "Actual: Iris-virginica. Predicted: {'Iris-virginica': '100%'}\n",
      "Actual: Iris-virginica. Predicted: {'Iris-virginica': '100%'}\n",
      "Actual: Iris-virginica. Predicted: {'Iris-virginica': '100%'}\n",
      "Actual: Iris-virginica. Predicted: {'Iris-virginica': '100%'}\n",
      "Actual: Iris-virginica. Predicted: {'Iris-virginica': '100%'}\n",
      "Actual: Iris-virginica. Predicted: {'Iris-virginica': '100%'}\n",
      "Actual: Iris-virginica. Predicted: {'Iris-virginica': '100%'}\n",
      "Actual: Iris-virginica. Predicted: {'Iris-virginica': '100%'}\n",
      "Actual: Iris-virginica. Predicted: {'Iris-virginica': '100%'}\n",
      "Actual: Iris-virginica. Predicted: {'Iris-virginica': '100%'}\n",
      "Actual: Iris-virginica. Predicted: {'Iris-virginica': '100%'}\n",
      "Actual: Iris-virginica. Predicted: {'Iris-virginica': '100%'}\n"
     ]
    }
   ],
   "source": [
    "for row in main_data:\n",
    "    print (\"Actual: %s. Predicted: %s\" %\n",
    "           (row[-1], print_leaf(classify(row, my_tree))))"
   ]
  },
  {
   "cell_type": "code",
   "execution_count": 26,
   "metadata": {},
   "outputs": [
    {
     "ename": "AttributeError",
     "evalue": "'list' object has no attribute 'feature_names'",
     "output_type": "error",
     "traceback": [
      "\u001b[1;31m---------------------------------------------------------------------------\u001b[0m",
      "\u001b[1;31mAttributeError\u001b[0m                            Traceback (most recent call last)",
      "\u001b[1;32m<ipython-input-26-530fb8f3d20d>\u001b[0m in \u001b[0;36m<module>\u001b[1;34m\u001b[0m\n\u001b[0;32m      4\u001b[0m \u001b[0mfig\u001b[0m \u001b[1;33m=\u001b[0m \u001b[0mplt\u001b[0m\u001b[1;33m.\u001b[0m\u001b[0mfigure\u001b[0m\u001b[1;33m(\u001b[0m\u001b[0mfigsize\u001b[0m \u001b[1;33m=\u001b[0m \u001b[1;33m(\u001b[0m\u001b[1;36m15\u001b[0m\u001b[1;33m,\u001b[0m\u001b[1;36m15\u001b[0m\u001b[1;33m)\u001b[0m\u001b[1;33m)\u001b[0m\u001b[1;33m\u001b[0m\u001b[1;33m\u001b[0m\u001b[0m\n\u001b[0;32m      5\u001b[0m \u001b[1;33m\u001b[0m\u001b[0m\n\u001b[1;32m----> 6\u001b[1;33m \u001b[0mvis_tree\u001b[0m \u001b[1;33m=\u001b[0m \u001b[0mtree\u001b[0m\u001b[1;33m.\u001b[0m\u001b[0mplot_tree\u001b[0m\u001b[1;33m(\u001b[0m\u001b[0mmy_tree\u001b[0m\u001b[1;33m,\u001b[0m \u001b[0mfeature_names\u001b[0m \u001b[1;33m=\u001b[0m \u001b[0mmain_data\u001b[0m\u001b[1;33m.\u001b[0m\u001b[0mfeature_names\u001b[0m\u001b[1;33m,\u001b[0m \u001b[0mclass_names\u001b[0m \u001b[1;33m=\u001b[0m \u001b[0mmain_data\u001b[0m\u001b[1;33m.\u001b[0m\u001b[0mtarget_names\u001b[0m\u001b[1;33m,\u001b[0m \u001b[0mfilled\u001b[0m \u001b[1;33m=\u001b[0m \u001b[1;32mTrue\u001b[0m\u001b[1;33m)\u001b[0m\u001b[1;33m\u001b[0m\u001b[1;33m\u001b[0m\u001b[0m\n\u001b[0m\u001b[0;32m      7\u001b[0m \u001b[1;33m\u001b[0m\u001b[0m\n\u001b[0;32m      8\u001b[0m \u001b[1;33m\u001b[0m\u001b[0m\n",
      "\u001b[1;31mAttributeError\u001b[0m: 'list' object has no attribute 'feature_names'"
     ]
    },
    {
     "data": {
      "text/plain": [
       "<Figure size 1080x1080 with 0 Axes>"
      ]
     },
     "metadata": {},
     "output_type": "display_data"
    }
   ],
   "source": [
    "from matplotlib import pyplot as plt\n",
    "from sklearn import tree\n",
    "\n",
    "fig = plt.figure(figsize = (15,15))\n",
    "\n",
    "vis_tree = tree.plot_tree(my_tree, feature_names = main_data.feature_names, class_names = main_data.target_names, filled = True)\n",
    "\n",
    "\n",
    "#vis_tree = tree.plot_tree(my_tree, row[-1::-1], print_leaf(classify(row, my_tree)), filled = True)\n"
   ]
  },
  {
   "cell_type": "code",
   "execution_count": null,
   "metadata": {},
   "outputs": [],
   "source": []
  }
 ],
 "metadata": {
  "kernelspec": {
   "display_name": "Python 3",
   "language": "python",
   "name": "python3"
  },
  "language_info": {
   "codemirror_mode": {
    "name": "ipython",
    "version": 3
   },
   "file_extension": ".py",
   "mimetype": "text/x-python",
   "name": "python",
   "nbconvert_exporter": "python",
   "pygments_lexer": "ipython3",
   "version": "3.8.3"
  }
 },
 "nbformat": 4,
 "nbformat_minor": 4
}
